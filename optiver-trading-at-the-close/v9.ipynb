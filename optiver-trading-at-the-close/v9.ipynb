{
 "cells": [
  {
   "cell_type": "markdown",
   "metadata": {},
   "source": [
    "Another rewrite because I had to rebuild my local environment for cudf + tensorflow to work."
   ]
  },
  {
   "cell_type": "code",
   "execution_count": 1,
   "metadata": {},
   "outputs": [],
   "source": [
    "import os\n",
    "os.environ['TF_CPP_MIN_LOG_LEVEL'] = '3' # https://stackoverflow.com/questions/40426502/is-there-a-way-to-suppress-the-messages-tensorflow-prints\n",
    "import gc\n",
    "import sys\n",
    "import typing as t\n",
    "import warnings\n",
    "warnings.filterwarnings('ignore')\n",
    "try: # got tired of changing code between local and kaggle setup\n",
    "    import cudf.pandas\n",
    "    cudf.pandas.install() # must be called before pandas import\n",
    "except ModuleNotFoundError:\n",
    "    print('cudf not installed. Continuing with CPU dataframes.')\n",
    "import pandas as pd\n",
    "import tensorflow as tf # https://github.com/tensorflow/tensorflow/issues/62075\n",
    "keras = tf.keras # https://github.com/microsoft/pylance-release/issues/1066\n",
    "from keras import Sequential, layers\n",
    "from xgboost import XGBRegressor\n",
    "from lightgbm import LGBMRegressor\n",
    "from sklearn.model_selection import TimeSeriesSplit\n",
    "from sklearn.metrics import mean_absolute_error"
   ]
  },
  {
   "cell_type": "code",
   "execution_count": 2,
   "metadata": {},
   "outputs": [],
   "source": [
    "DATA_TRAIN = '.data/train.csv'\n",
    "DATA_TEST_X = '.data/test.csv'\n",
    "DATA_TEST_Y = '.data/revealed_targets.csv'\n",
    "\n",
    "KAGGLE_DATA_TRAIN = '/kaggle/input/optiver-trading-at-the-close/train.csv'\n",
    "KAGGLE_DATA_TEST_X = '/kaggle/input/optiver-trading-at-the-close/example_test_files/test.csv'\n",
    "KAGGLE_DATA_TEST_Y = '/kaggle/input/optiver-trading-at-the-close/example_test_files/revealed_targets.csv'\n",
    "\n",
    "DROPS = ['index', 'time_id', 'currently_scored', 'time_id_x', 'time_id_y', 'revealed_date_id', 'revealed_time_id']\n",
    "SORTS = ['date_id', 'seconds_in_bucket', 'stock_id']\n",
    "INDEX = 'row_id'\n",
    "\n",
    "def preprocess(data:pd.DataFrame, ycol:str=None) -> pd.DataFrame: # separate for submission compat\n",
    "    data = data.reset_index().set_index(INDEX)\n",
    "    data = data.drop([col for col in DROPS if col in data.columns], axis=1)\n",
    "    data = data.sort_values(by=SORTS).drop(SORTS, axis=1)\n",
    "    data = (data - data.min()) / (data.max() - data.min())\n",
    "    data = data.ffill().fillna(0)\n",
    "    return data\n",
    "\n",
    "def load_vars(testing:bool=False) -> tuple[pd.DataFrame, pd.Series]:\n",
    "\n",
    "    def read_data(train, test_x, test_y):\n",
    "        if testing:\n",
    "            data = pd.merge(*[pd.read_csv(path) for path in [test_x, test_y]], on=SORTS) # https://stackoverflow.com/a/32041277/3178898\n",
    "            ycol = 'revealed_target'\n",
    "        else:\n",
    "            data = pd.read_csv(train, index_col=INDEX)\n",
    "            ycol = 'target'\n",
    "        return data, ycol\n",
    "    \n",
    "    try: # tired of switching local/kaggle setup\n",
    "        data, ycol = read_data(DATA_TRAIN, DATA_TEST_X, DATA_TEST_Y)\n",
    "    except FileNotFoundError:\n",
    "        data, ycol = read_data(KAGGLE_DATA_TRAIN, KAGGLE_DATA_TEST_X, KAGGLE_DATA_TEST_Y)\n",
    "\n",
    "    data = data.dropna(subset=[ycol]) # some targets are null\n",
    "    return preprocess(data.drop(ycol, axis=1)), data[ycol]\n",
    "\n",
    "N_FEATURES = 11 # update if/as features are engineered"
   ]
  },
  {
   "cell_type": "code",
   "execution_count": 3,
   "metadata": {},
   "outputs": [
    {
     "data": {
      "text/plain": [
       "2"
      ]
     },
     "execution_count": 3,
     "metadata": {},
     "output_type": "execute_result"
    }
   ],
   "source": [
    "s = ['a', 'b', 'c', 'd']\n",
    "limit = None\n",
    "slimit = None\n",
    "(limit or slimit or max(len(s) // 2, 1))"
   ]
  },
  {
   "cell_type": "code",
   "execution_count": 12,
   "metadata": {},
   "outputs": [],
   "source": [
    "class Model(t.Protocol):\n",
    "    def fit(self, X, y, sample_weight=None): ...\n",
    "    def predict(self, X): ...\n",
    "    def get_params(self, deep=True): ...\n",
    "\n",
    "class ModelProfile:\n",
    "    def __init__(self, model:Model, score:float, predict_kw:dict={}) -> None:\n",
    "        self.model = model\n",
    "        self.score = score\n",
    "        self.predict_kw = predict_kw\n",
    "\n",
    "class Ensemble:\n",
    "    def __init__(self, limit:int=None) -> None:\n",
    "        self.models = list[ModelProfile]()\n",
    "        self.limit = limit\n",
    "\n",
    "    @property\n",
    "    def best_score(self) -> float:\n",
    "        return min(m.score for m in self.models) if len(self) > 0 else None\n",
    "    \n",
    "    @property\n",
    "    def mean_score(self) -> float:\n",
    "        return sum(m.score for m in self.models) / len(self) if len(self) > 0 else None\n",
    "\n",
    "    def add(self, model: ModelProfile) -> bool:\n",
    "        if self.limit and len(self) >= self.limit and model.score > self.mean_score:\n",
    "            return False\n",
    "        self.models.append(model)\n",
    "        return True\n",
    "        \n",
    "    def prune(self, limit:int=None) -> int:\n",
    "        self.limit = limit or self.limit or max(len(self) // 2, 1)\n",
    "        while len(self) > self.limit:\n",
    "            self.models = [m for m in self.models if m.score < self.mean_score]\n",
    "        return len(self)\n",
    "    \n",
    "    def predict(self, X:pd.DataFrame) -> pd.DataFrame:\n",
    "        y = pd.DataFrame(index=X.index)\n",
    "        y['pred'] = 0\n",
    "        for model in self.models:\n",
    "            m_pred = model.model.predict(X, **model.predict_kw)\n",
    "            y.pred += m_pred.reshape(-1) # tensorflow\n",
    "        y.pred = y.pred / len(self)\n",
    "        return y\n",
    "\n",
    "    def __len__(self) -> int:\n",
    "        return len(self.models)\n",
    "    \n",
    "    def __repr__(self) -> str:\n",
    "        return f'<Ensemble ({len(self)} model(s); mean_score={self.mean_score}; best_score={self.best_score}; target_size={self.limit})>'"
   ]
  },
  {
   "cell_type": "code",
   "execution_count": 13,
   "metadata": {},
   "outputs": [],
   "source": [
    "# Accepts a list of Models and returns an ensemble of the best performers.\n",
    "# An existing Ensemble can also be passed in, which will be updated and returned instead.\n",
    "def train_ensemble(models:list[Model], folds:int=5, ensemble:Ensemble=Ensemble()) -> Ensemble:\n",
    "\n",
    "    print(f'Pre-training setup...', end='\\r')\n",
    "    cv = TimeSeriesSplit(folds)\n",
    "    X, y = load_vars()\n",
    "    X_test, y_test = load_vars(testing=True)\n",
    "    \n",
    "    for model in models:\n",
    "        \n",
    "        # customize fit() and predict() kwargs for each model type (and params)\n",
    "        fit_kw = dict()\n",
    "        predict_kw = dict()\n",
    "        early_stop = False\n",
    "        model_class = type(model).__name__\n",
    "        match model_class:\n",
    "            case 'Sequential':\n",
    "                model.compile(optimizer='adam', loss='mae')\n",
    "                keras_kw = dict(batch_size=256, verbose=0)\n",
    "                fit_kw.update(dict(epochs=10//folds, **keras_kw))\n",
    "                predict_kw.update(keras_kw)\n",
    "            case 'LGBMRegressor':\n",
    "                fit_kw.update(dict(verbose=False))\n",
    "                early_stop = 'early_stopping_round' in model.get_params()\n",
    "            case 'XGBRegressor':\n",
    "                fit_kw.update(dict(verbose=0))\n",
    "                early_stop = 'early_stopping_rounds' in model.get_params()\n",
    "        \n",
    "        # k-fold cross-validation\n",
    "        model_fails = 0\n",
    "        for i, (train, valid) in enumerate(cv.split(X)):\n",
    "            try: # sometimes a training round can fail, but I don't want to give up on the whole ensemble\n",
    "                \n",
    "                print(f'Training {model_class}: Fold {i + 1}/{folds} - Running...', end='\\r')\n",
    "                X_valid, y_valid = X.iloc[valid, :], y[valid]\n",
    "\n",
    "                early_stop_kw = {}\n",
    "                if early_stop:\n",
    "                    early_stop_kw['eval_set'] = [(X_valid, y_valid)]\n",
    "                    if model_class == 'LGBMRegressor': early_stop_kw['eval_metric'] = 'l1'\n",
    "                if model_class == 'Sequential':\n",
    "                    early_stop_kw['validation_data'] = (X_valid, y_valid)\n",
    "                fit_kw.update(early_stop_kw)\n",
    "\n",
    "                try: # some keywords work in local setup, some only work on kaggle\n",
    "                    model.fit(X.iloc[train, :], y[train], **fit_kw)\n",
    "                except:\n",
    "                    model.fit(X.iloc[train, :], y[train], **early_stop_kw) # regardless, always want the early stop\n",
    "\n",
    "                mae_train = mean_absolute_error(y_valid, model.predict(X_valid, **predict_kw))\n",
    "                mae_test = mean_absolute_error(y_test, model.predict(X_test, **predict_kw))\n",
    "                \n",
    "                del X_valid, y_valid\n",
    "                print(f'Training {model_class}: Fold {i + 1}/{folds} - Complete.  \\n\\tTrain MAE:  {mae_train}\\n\\tTest MAE:   {mae_test}')\n",
    "\n",
    "                if ensemble.add(ModelProfile(model, mae_test, predict_kw)):\n",
    "                    print(f'Model accepted.')\n",
    "                else:\n",
    "                    print(f'Model rejected.')\n",
    "\n",
    "                print(f'\\tMean score: {ensemble.mean_score}\\n\\tBest score: {ensemble.best_score}')\n",
    "            \n",
    "            except Exception as e:\n",
    "                print(f'Training {model_class}: Fold {i + 1}/{folds} - Error: {e.args}')\n",
    "                model_fails += 1\n",
    "                if model_fails > 1: break # consecutive failures are likely a misconfig on the model\n",
    "            \n",
    "            finally: # otherwise it's likely an out of memory error and we can move on\n",
    "                gc.collect()\n",
    "    \n",
    "    return ensemble"
   ]
  },
  {
   "cell_type": "code",
   "execution_count": 14,
   "metadata": {},
   "outputs": [
    {
     "name": "stdout",
     "output_type": "stream",
     "text": [
      "Training LGBMRegressor: Fold 1/3 - Complete.  \n",
      "\tTrain MAE:  7.034098842562557\n",
      "\tTest MAE:   5.845854514798698\n",
      "Model accepted.\n",
      "\tMean score: 5.845854514798698\n",
      "\tBest score: 5.845854514798698\n",
      "Training LGBMRegressor: Fold 2/3 - Complete.  \n",
      "\tTrain MAE:  6.21301784123645\n",
      "\tTest MAE:   5.429571765461806\n",
      "Model accepted.\n",
      "\tMean score: 5.637713140130252\n",
      "\tBest score: 5.429571765461806\n",
      "Training LGBMRegressor: Fold 3/3 - Complete.  \n",
      "\tTrain MAE:  6.0942163712552455\n",
      "\tTest MAE:   5.527554314988951\n",
      "Model accepted.\n",
      "\tMean score: 5.600993531749818\n",
      "\tBest score: 5.429571765461806\n",
      "Training XGBRegressor: Fold 1/3 - Complete.  \n",
      "\tTrain MAE:  7.038525480784746\n",
      "\tTest MAE:   6.182351412102538\n",
      "Model accepted.\n",
      "\tMean score: 5.746333001837998\n",
      "\tBest score: 5.429571765461806\n",
      "Training XGBRegressor: Fold 2/3 - Complete.  \n",
      "\tTrain MAE:  6.2139224280507985\n",
      "\tTest MAE:   5.408446094484484\n",
      "Model accepted.\n",
      "\tMean score: 5.678755620367295\n",
      "\tBest score: 5.408446094484484\n",
      "Training XGBRegressor: Fold 3/3 - Complete.  \n",
      "\tTrain MAE:  6.0981010521665775\n",
      "\tTest MAE:   5.42362231874843\n",
      "Model accepted.\n",
      "\tMean score: 5.6362334034308175\n",
      "\tBest score: 5.408446094484484\n"
     ]
    }
   ],
   "source": [
    "shared_params = dict(random_state=25, n_jobs=16,  learning_rate=0.2, max_depth=3, colsample_bytree=0.85, subsample=0.8, reg_alpha=500)\n",
    "lgb_params = dict(**shared_params, early_stopping_round=5, metric='l1', num_leaves=8, min_child_samples=2000, min_split_gain=0.001, verbosity=-1)\n",
    "xgb_params = dict(**shared_params, early_stopping_rounds=5, eval_metric='mae', tree_method='hist', gamma=0.2)\n",
    "\n",
    "models = [\n",
    "    # Sequential([\n",
    "    #     layers.Dense(32, input_shape=[N_FEATURES]),\n",
    "    #     layers.Dropout(0.3),\n",
    "    #     layers.BatchNormalization(),\n",
    "    #     layers.Dense(64, activation='tanh'),\n",
    "    #     layers.Dropout(0.3),\n",
    "    #     layers.BatchNormalization(),\n",
    "    #     layers.Dense(1),\n",
    "    # ]),\n",
    "    LGBMRegressor(**lgb_params),\n",
    "    XGBRegressor(**xgb_params),\n",
    "]\n",
    "\n",
    "ensemble = train_ensemble(models, folds=3)"
   ]
  },
  {
   "cell_type": "code",
   "execution_count": 15,
   "metadata": {},
   "outputs": [
    {
     "data": {
      "text/plain": [
       "<Ensemble (6 model(s); mean_score=5.6362334034308175; best_score=5.408446094484484; target_size=None)>"
      ]
     },
     "execution_count": 15,
     "metadata": {},
     "output_type": "execute_result"
    }
   ],
   "source": [
    "ensemble"
   ]
  },
  {
   "cell_type": "code",
   "execution_count": 16,
   "metadata": {},
   "outputs": [
    {
     "data": {
      "text/plain": [
       "<Ensemble (3 model(s); mean_score=5.420546726231573; best_score=5.408446094484484; target_size=3)>"
      ]
     },
     "execution_count": 16,
     "metadata": {},
     "output_type": "execute_result"
    }
   ],
   "source": [
    "ensemble.prune()\n",
    "ensemble"
   ]
  },
  {
   "cell_type": "code",
   "execution_count": 17,
   "metadata": {},
   "outputs": [
    {
     "data": {
      "text/plain": [
       "5.445350865581263"
      ]
     },
     "execution_count": 17,
     "metadata": {},
     "output_type": "execute_result"
    }
   ],
   "source": [
    "def test_model(model:Model|Ensemble) -> float:\n",
    "    X_test, y_test = load_vars(testing=True)\n",
    "    y_pred = model.predict(X_test)\n",
    "    return mean_absolute_error(y_test, y_pred)\n",
    "\n",
    "test_model(ensemble)"
   ]
  },
  {
   "cell_type": "code",
   "execution_count": 18,
   "metadata": {},
   "outputs": [],
   "source": [
    "# submission compat check\n",
    "import optiver2023\n",
    "env = optiver2023.make_env()\n",
    "iter_test = env.iter_test()\n",
    "\n",
    "for (test, revealed_targets, _) in iter_test:\n",
    "    X_test = preprocess(test)\n",
    "    y_pred = ensemble.predict(X_test)\n",
    "    submission = test[['row_id']].set_index('row_id') # needed to match rows\n",
    "    submission['target'] = y_pred\n",
    "    submission = submission.reset_index() # convert back for final CSV write\n",
    "    env.predict(submission)"
   ]
  },
  {
   "cell_type": "code",
   "execution_count": 19,
   "metadata": {},
   "outputs": [
    {
     "data": {
      "text/html": [
       "<div>\n",
       "<style scoped>\n",
       "    .dataframe tbody tr th:only-of-type {\n",
       "        vertical-align: middle;\n",
       "    }\n",
       "\n",
       "    .dataframe tbody tr th {\n",
       "        vertical-align: top;\n",
       "    }\n",
       "\n",
       "    .dataframe thead th {\n",
       "        text-align: right;\n",
       "    }\n",
       "</style>\n",
       "<table border=\"1\" class=\"dataframe\">\n",
       "  <thead>\n",
       "    <tr style=\"text-align: right;\">\n",
       "      <th></th>\n",
       "      <th>row_id</th>\n",
       "      <th>target</th>\n",
       "    </tr>\n",
       "  </thead>\n",
       "  <tbody>\n",
       "    <tr>\n",
       "      <th>0</th>\n",
       "      <td>478_0_0</td>\n",
       "      <td>0.574097</td>\n",
       "    </tr>\n",
       "    <tr>\n",
       "      <th>1</th>\n",
       "      <td>478_0_1</td>\n",
       "      <td>1.521065</td>\n",
       "    </tr>\n",
       "    <tr>\n",
       "      <th>2</th>\n",
       "      <td>478_0_2</td>\n",
       "      <td>30.435205</td>\n",
       "    </tr>\n",
       "    <tr>\n",
       "      <th>3</th>\n",
       "      <td>478_0_3</td>\n",
       "      <td>0.574097</td>\n",
       "    </tr>\n",
       "    <tr>\n",
       "      <th>4</th>\n",
       "      <td>478_0_4</td>\n",
       "      <td>1.020032</td>\n",
       "    </tr>\n",
       "    <tr>\n",
       "      <th>...</th>\n",
       "      <td>...</td>\n",
       "      <td>...</td>\n",
       "    </tr>\n",
       "    <tr>\n",
       "      <th>32995</th>\n",
       "      <td>480_540_195</td>\n",
       "      <td>-0.710971</td>\n",
       "    </tr>\n",
       "    <tr>\n",
       "      <th>32996</th>\n",
       "      <td>480_540_196</td>\n",
       "      <td>-0.710971</td>\n",
       "    </tr>\n",
       "    <tr>\n",
       "      <th>32997</th>\n",
       "      <td>480_540_197</td>\n",
       "      <td>-0.496850</td>\n",
       "    </tr>\n",
       "    <tr>\n",
       "      <th>32998</th>\n",
       "      <td>480_540_198</td>\n",
       "      <td>-0.080503</td>\n",
       "    </tr>\n",
       "    <tr>\n",
       "      <th>32999</th>\n",
       "      <td>480_540_199</td>\n",
       "      <td>-0.710971</td>\n",
       "    </tr>\n",
       "  </tbody>\n",
       "</table>\n",
       "<p>33000 rows × 2 columns</p>\n",
       "</div>"
      ],
      "text/plain": [
       "            row_id     target\n",
       "0          478_0_0   0.574097\n",
       "1          478_0_1   1.521065\n",
       "2          478_0_2  30.435205\n",
       "3          478_0_3   0.574097\n",
       "4          478_0_4   1.020032\n",
       "...            ...        ...\n",
       "32995  480_540_195  -0.710971\n",
       "32996  480_540_196  -0.710971\n",
       "32997  480_540_197  -0.496850\n",
       "32998  480_540_198  -0.080503\n",
       "32999  480_540_199  -0.710971\n",
       "\n",
       "[33000 rows x 2 columns]"
      ]
     },
     "execution_count": 19,
     "metadata": {},
     "output_type": "execute_result"
    }
   ],
   "source": [
    "try:\n",
    "    res = pd.read_csv('/kaggle/working/submission.csv') # sanity check\n",
    "except FileNotFoundError:\n",
    "    res = pd.read_csv('./.data/submission.csv')\n",
    "res"
   ]
  }
 ],
 "metadata": {
  "kernelspec": {
   "display_name": "Python 3 (ipykernel)",
   "language": "python",
   "name": "python3"
  },
  "language_info": {
   "codemirror_mode": {
    "name": "ipython",
    "version": 3
   },
   "file_extension": ".py",
   "mimetype": "text/x-python",
   "name": "python",
   "nbconvert_exporter": "python",
   "pygments_lexer": "ipython3",
   "version": "3.10.12"
  }
 },
 "nbformat": 4,
 "nbformat_minor": 5
}
