{
 "cells": [
  {
   "cell_type": "markdown",
   "id": "8d47cbad",
   "metadata": {},
   "source": [
    "Initial submission scored a 31.4109 :(\n",
    "\n",
    "Coming back to see if tweaking params can help before trying something new."
   ]
  },
  {
   "cell_type": "code",
   "execution_count": 1,
   "id": "c3fa3187",
   "metadata": {},
   "outputs": [],
   "source": [
    "import gc\n",
    "import typing\n",
    "import warnings\n",
    "warnings.filterwarnings('ignore')\n",
    "# %load_ext cudf.pandas\n",
    "import pandas as pd\n",
    "from sklearn.model_selection import TimeSeriesSplit, GridSearchCV\n",
    "from sklearn.metrics import mean_absolute_error\n",
    "from xgboost import XGBRegressor"
   ]
  },
  {
   "cell_type": "code",
   "execution_count": 2,
   "id": "c5e98503",
   "metadata": {},
   "outputs": [],
   "source": [
    "def preprocess(data:pd.DataFrame) -> pd.DataFrame:\n",
    "    assert 'target' not in data.columns # sanity check\n",
    "    data = data.reset_index().set_index('row_id')\n",
    "    for drop_col in ['index', 'time_id', 'currently_scored']:\n",
    "        if drop_col in data.columns:\n",
    "            data = data.drop(drop_col, axis=1)\n",
    "    id_cols = ['date_id', 'seconds_in_bucket', 'stock_id']\n",
    "    data = data.sort_values(by=id_cols)\n",
    "    data = data.drop(id_cols, axis=1)\n",
    "    data = (data - data.min()) / (data.max() - data.min()) # normalize\n",
    "    data = data.ffill().fillna(0) # imputation at home\n",
    "    return data"
   ]
  },
  {
   "cell_type": "code",
   "execution_count": 3,
   "id": "e32ba6ff",
   "metadata": {},
   "outputs": [],
   "source": [
    "data = pd.read_csv('./.data/train.csv', index_col='row_id')\n",
    "data = data.dropna(subset=['target'])\n",
    "y = data.target\n",
    "X = data.drop('target', axis=1)\n",
    "del data # moore's law is a hell of a drug\n",
    "X = preprocess(X)"
   ]
  },
  {
   "cell_type": "code",
   "execution_count": 4,
   "id": "6c0a6b91",
   "metadata": {},
   "outputs": [],
   "source": [
    "class Model(typing.Protocol):\n",
    "    def fit(self, X, y, sample_weight=None): ...\n",
    "    def predict(self, X): ...\n",
    "\n",
    "def train_model(model:Model, X:pd.DataFrame, y:pd.Series, folds:int=5, early_stop:bool=False) -> Model:\n",
    "    for i, (i_train, i_valid) in enumerate(TimeSeriesSplit(n_splits=folds).split(X)):\n",
    "        print(f'Training: Fold {i + 1}/{folds} - Running...', end='\\r')\n",
    "        try:\n",
    "            X_train, X_valid = X.iloc[i_train, :], X.iloc[i_valid, :]\n",
    "            y_train, y_valid = y[i_train], y[i_valid]\n",
    "            model.fit(X_train, y_train, verbose=False, eval_set=[(X_valid, y_valid)] if early_stop else None)\n",
    "            y_pred = model.predict(X_valid)\n",
    "            mae = mean_absolute_error(y_valid, y_pred)\n",
    "            del X_train, X_valid, y_train, y_valid, y_pred # a stitch in time...\n",
    "        except Exception as e:\n",
    "            print(f'Training: Fold {i + 1}/{folds} - Failed: {e}')\n",
    "            print(f'Returning undertrained model ({i} folds)')\n",
    "            break\n",
    "        finally:\n",
    "            gc.collect() # ...saves the kernel from crashing - \"Uncle\" Ben Banklin\n",
    "        print(f'Training: Fold {i + 1}/{folds} - Complete. MAE: {mae}')\n",
    "    return model"
   ]
  },
  {
   "cell_type": "code",
   "execution_count": 27,
   "id": "b8e929c3",
   "metadata": {},
   "outputs": [
    {
     "name": "stdout",
     "output_type": "stream",
     "text": [
      "CV Fold 1 of 5 - Complete. MAE: 7.351825973729486\n",
      "CV Fold 2 of 5 - Complete. MAE: 6.829925284195577\n",
      "CV Fold 3 of 5 - Complete. MAE: 6.142346409136241\n",
      "CV Fold 4 of 5 - Complete. MAE: 6.373074008358564\n",
      "CV Fold 5 of 5 - Complete. MAE: 5.936219912494401\n"
     ]
    }
   ],
   "source": [
    "# model_params = dict(seed=25, tree_method='hist', n_jobs=16, eval_metric='mae', eta=0.2, max_depth=3, gamma=0.2)\n",
    "# model = train_model(XGBRegressor(**model_params), X, y, early_stop=('early_stopping_rounds' in model_params)) # local MAE: 5.936219912494401 (Kaggle score: ~31)"
   ]
  },
  {
   "cell_type": "code",
   "execution_count": 29,
   "metadata": {},
   "outputs": [
    {
     "name": "stdout",
     "output_type": "stream",
     "text": [
      "Grid search complete. Best params: {'reg_alpha': 1000}\n",
      "CV Fold 1 of 5 - Complete. MAE: 7.342769416989973\n",
      "CV Fold 2 of 5 - Complete. MAE: 6.827891261674777\n",
      "CV Fold 3 of 5 - Complete. MAE: 6.140392080574695\n",
      "CV Fold 4 of 5 - Complete. MAE: 6.369327561854159\n",
      "CV Fold 5 of 5 - Complete. MAE: 5.933228711079479\n"
     ]
    }
   ],
   "source": [
    "model_params = dict(seed=25, n_jobs=8, tree_method='hist', eval_metric='mae', eta=0.2, max_depth=3, gamma=0.2, colsample_bytree=0.85, subsample=0.8, reg_alpha=500)\n",
    "model = XGBRegressor(**model_params)\n",
    "# print('Starting grid search...', end='\\r')\n",
    "# grid_params = dict(reg_alpha=[0.01, 0.1, 1, 10, 100, 1000])\n",
    "# grid_search = GridSearchCV(estimator=model, param_grid=grid_params, n_jobs=8)\n",
    "# grid_search = grid_search.fit(X, y)\n",
    "# print(f'Grid search complete. Best params: {grid_search.best_params_}')\n",
    "# model = grid_search.best_estimator_\n",
    "model = train_model(model, X, y, early_stop=('early_stopping_rounds' in model_params))"
   ]
  },
  {
   "cell_type": "code",
   "execution_count": null,
   "id": "22e14226",
   "metadata": {},
   "outputs": [],
   "source": [
    "# submission compat check\n",
    "import optiver2023\n",
    "env = optiver2023.make_env()\n",
    "iter_test = env.iter_test()\n",
    "\n",
    "for (test, revealed_targets, _) in iter_test:\n",
    "    X_test = preprocess(test)\n",
    "    y_pred = model.predict(X_test)\n",
    "    submission = test[['row_id']]\n",
    "    submission['target'] = y_pred\n",
    "    env.predict(submission)"
   ]
  },
  {
   "cell_type": "markdown",
   "metadata": {},
   "source": [
    "Latest submission (V2) clocked in at 8.4405, we're making progress 🦾"
   ]
  }
 ],
 "metadata": {
  "kernelspec": {
   "display_name": "Python 3 (ipykernel)",
   "language": "python",
   "name": "python3"
  },
  "language_info": {
   "codemirror_mode": {
    "name": "ipython",
    "version": 3
   },
   "file_extension": ".py",
   "mimetype": "text/x-python",
   "name": "python",
   "nbconvert_exporter": "python",
   "pygments_lexer": "ipython3",
   "version": "3.10.13"
  }
 },
 "nbformat": 4,
 "nbformat_minor": 5
}
