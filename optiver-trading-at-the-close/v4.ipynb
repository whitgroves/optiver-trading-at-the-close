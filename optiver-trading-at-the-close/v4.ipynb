{
 "cells": [
  {
   "cell_type": "markdown",
   "id": "4efea51d",
   "metadata": {},
   "source": [
    "This started as a rewrite of v3 but a enough changed that I'm making a differnt version. notably, I'm forgoing the use of the regression imputer and lag features because (A) they don't work if each stock only has 1 row, and (B) they slow everything down when they do work.\n",
    "\n",
    "I'll build around the sample submission first to see what can be engineered from that before plugging in the test data."
   ]
  },
  {
   "cell_type": "code",
   "execution_count": 51,
   "id": "c3fa3187",
   "metadata": {},
   "outputs": [
    {
     "name": "stdout",
     "output_type": "stream",
     "text": [
      "The cudf.pandas extension is already loaded. To reload it, use:\n",
      "  %reload_ext cudf.pandas\n"
     ]
    }
   ],
   "source": [
    "import gc\n",
    "import typing\n",
    "import warnings\n",
    "warnings.filterwarnings('ignore')\n",
    "# %load_ext cudf.pandas\n",
    "import pandas as pd\n",
    "from sklearn.model_selection import TimeSeriesSplit\n",
    "from sklearn.metrics import mean_absolute_error\n",
    "from xgboost import XGBRegressor"
   ]
  },
  {
   "cell_type": "code",
   "execution_count": 52,
   "metadata": {},
   "outputs": [],
   "source": [
    "def preprocess(data:pd.DataFrame) -> pd.DataFrame:\n",
    "    assert 'target' not in data.columns # sanity check\n",
    "    data = data.reset_index().set_index('row_id')\n",
    "    for drop_col in ['index', 'time_id', 'currently_scored']:\n",
    "        if drop_col in data.columns:\n",
    "            data = data.drop(drop_col, axis=1)\n",
    "    id_cols = ['date_id', 'seconds_in_bucket', 'stock_id']\n",
    "    data = data.sort_values(by=id_cols)\n",
    "    data = data.drop(id_cols, axis=1)\n",
    "    data = (data - data.min()) / (data.max() - data.min()) # normalize\n",
    "    data = data.ffill().fillna(0) # imputation at home\n",
    "    return data"
   ]
  },
  {
   "cell_type": "code",
   "execution_count": 53,
   "id": "e32ba6ff",
   "metadata": {},
   "outputs": [],
   "source": [
    "data = pd.read_csv('./.data/train.csv', index_col='row_id')\n",
    "data = data.dropna(subset=['target'])\n",
    "y = data.target\n",
    "X = data.drop('target', axis=1)\n",
    "del data # moore's law is a hell of a drug\n",
    "X = preprocess(X)"
   ]
  },
  {
   "cell_type": "code",
   "execution_count": 54,
   "id": "6c0a6b91",
   "metadata": {},
   "outputs": [],
   "source": [
    "class Model(typing.Protocol):\n",
    "    def fit(self, X, y, sample_weight=None): ...\n",
    "    def predict(self, X): ...\n",
    "\n",
    "def train_model(model:Model, X:pd.DataFrame, y:pd.Series, folds:int=5) -> Model:\n",
    "    for i, (i_train, i_valid) in enumerate(TimeSeriesSplit(n_splits=folds).split(X)):\n",
    "        print(f'CV Fold {i + 1} of {folds} - Running...', end='\\r')\n",
    "        try:\n",
    "            X_train, X_valid = X.iloc[i_train, :], X.iloc[i_valid, :]\n",
    "            y_train, y_valid = y[i_train], y[i_valid]\n",
    "            model.fit(X_train, y_train)\n",
    "            y_pred = model.predict(X_valid)\n",
    "            mae = mean_absolute_error(y_valid, y_pred)\n",
    "            del X_train, X_valid, y_train, y_valid, y_pred # an stitch in time...\n",
    "        except Exception as e:\n",
    "            print(f'CV Fold {i + 1} of {folds} - Failed: {e}')\n",
    "            print(f'Returning undertrained model ({i} folds)')\n",
    "            break\n",
    "        finally:\n",
    "            gc.collect() # ...saves the kernel from crashing - \"Uncle\" Ben Banklin\n",
    "        print(f'CV Fold {i + 1} of {folds} - Complete. MAE: {mae}')\n",
    "    return model"
   ]
  },
  {
   "cell_type": "code",
   "execution_count": 57,
   "id": "b8e929c3",
   "metadata": {},
   "outputs": [
    {
     "name": "stdout",
     "output_type": "stream",
     "text": [
      "CV Fold 1 of 5 - Complete. MAE: 7.470980489574998\n",
      "CV Fold 2 of 5 - Complete. MAE: 6.854041889494296\n",
      "CV Fold 3 of 5 - Complete. MAE: 6.148848127515973\n",
      "CV Fold 4 of 5 - Complete. MAE: 6.3991843911600945\n",
      "CV Fold 5 of 5 - Complete. MAE: 5.962018910300458\n"
     ]
    }
   ],
   "source": [
    "model = train_model(XGBRegressor(seed=25), X, y)"
   ]
  },
  {
   "cell_type": "code",
   "execution_count": 58,
   "metadata": {},
   "outputs": [],
   "source": [
    "import optiver2023\n",
    "env = optiver2023.make_env()\n",
    "iter_test = env.iter_test()\n",
    "\n",
    "for (test, revealed_targets, _) in iter_test:\n",
    "    X_test = preprocess(test)\n",
    "    y_pred = model.predict(X_test)\n",
    "    submission = test[['row_id']]\n",
    "    submission['target'] = y_pred\n",
    "    env.predict(submission)"
   ]
  }
 ],
 "metadata": {
  "kernelspec": {
   "display_name": "Python 3 (ipykernel)",
   "language": "python",
   "name": "python3"
  },
  "language_info": {
   "codemirror_mode": {
    "name": "ipython",
    "version": 3
   },
   "file_extension": ".py",
   "mimetype": "text/x-python",
   "name": "python",
   "nbconvert_exporter": "python",
   "pygments_lexer": "ipython3",
   "version": "3.10.13"
  }
 },
 "nbformat": 4,
 "nbformat_minor": 5
}
