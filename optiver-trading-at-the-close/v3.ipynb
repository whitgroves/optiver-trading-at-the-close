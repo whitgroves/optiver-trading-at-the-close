{
 "cells": [
  {
   "cell_type": "markdown",
   "id": "4efea51d",
   "metadata": {},
   "source": [
    "v2 made progress with not crashing the kernel but it's not fully compatible with the submission guidelines yet.\n",
    "\n",
    "plus the MAE bottomed out at ~6.3, which isn't even enough to crack the first page."
   ]
  },
  {
   "cell_type": "code",
   "execution_count": 1,
   "id": "c3fa3187",
   "metadata": {},
   "outputs": [],
   "source": [
    "import gc\n",
    "import typing\n",
    "import warnings\n",
    "warnings.filterwarnings('ignore')"
   ]
  },
  {
   "cell_type": "code",
   "execution_count": 2,
   "id": "188e9700",
   "metadata": {},
   "outputs": [],
   "source": [
    "%load_ext cudf.pandas\n",
    "import pandas as pd\n",
    "# import numpy as np\n",
    "from sklearn.linear_model import LinearRegression\n",
    "from sklearn.model_selection import TimeSeriesSplit\n",
    "from sklearn.metrics import mean_absolute_error\n",
    "from xgboost import XGBRegressor"
   ]
  },
  {
   "cell_type": "code",
   "execution_count": 3,
   "id": "057810a6",
   "metadata": {},
   "outputs": [],
   "source": [
    "def regression_imputer(data:pd.DataFrame, target:str, drops:list=[]) -> pd.DataFrame:\n",
    "    X_train = data[data[target].notna()].drop(drops, axis=1)\n",
    "    y_train = data[target].loc[data.index.isin(X_train.index)]\n",
    "    model = LinearRegression()\n",
    "    model.fit(X_train, y_train)\n",
    "    X_test = data[data[target].isna()].drop(drops, axis=1).dropna()\n",
    "    y_test = model.predict(X_test)\n",
    "    return pd.DataFrame(y_test, columns=[target], index=X_test.index)"
   ]
  },
  {
   "cell_type": "code",
   "execution_count": 4,
   "id": "5ec89851",
   "metadata": {},
   "outputs": [],
   "source": [
    "def preprocess_unit(data:pd.DataFrame, imputes:list[str]=[], skips:list[str]=[], lags:int=0) -> pd.DataFrame:\n",
    "    temp = data.copy()\n",
    "    # impute\n",
    "    for col in imputes:\n",
    "        # imp = regression_imputer(temp, col, drops=imputes)\n",
    "        temp = temp[col].fillna(0) #imp)\n",
    "    temp = temp.interpolate()\n",
    "    # normalize\n",
    "    skipped = temp[skips]\n",
    "    temp = temp.drop(skips, axis=1)\n",
    "    temp = (temp - temp.min()) / (temp.max() - temp.min())\n",
    "    # lag features\n",
    "    lagged = []\n",
    "    for i in range(1, lags+1):\n",
    "        lag = temp.shift(i)\n",
    "        lag.columns = [f'{col}_lag_{i}0s' for col in lag.columns]\n",
    "        lagged.append(lag)\n",
    "    # recombine\n",
    "    temp = temp.join(lagged, how='inner').dropna(axis=0)\n",
    "    temp = skipped.join(temp, how='inner')\n",
    "    return temp"
   ]
  },
  {
   "cell_type": "code",
   "execution_count": 13,
   "id": "2000524b",
   "metadata": {},
   "outputs": [],
   "source": [
    "def preprocess(data:pd.DataFrame, **kwargs) -> pd.DataFrame:\n",
    "    data = data.reset_index().set_index(['stock_id', 'date_id', 'seconds_in_bucket']).sort_index()\n",
    "    preprocessed = []\n",
    "    for stock_id in range(200):\n",
    "        print(f'Preprocessing...{stock_id/2:04.1f}%', end='\\r')\n",
    "        stock = pd.DataFrame(data.loc[stock_id])\n",
    "        stock = preprocess_unit(stock, **kwargs)\n",
    "        stock['stock_id'] = stock_id\n",
    "        preprocessed.append(stock)\n",
    "    data = pd.concat(preprocessed).reset_index()\n",
    "    print('Preprocessing...Complete')\n",
    "    del preprocessed\n",
    "    data = data.sort_values(by=['time_id'])\n",
    "    data = data.drop(['stock_id', 'date_id', 'seconds_in_bucket', 'time_id'], axis=1)\n",
    "    data = data.set_index('row_id')\n",
    "    return data"
   ]
  },
  {
   "cell_type": "code",
   "execution_count": 6,
   "id": "e32ba6ff",
   "metadata": {},
   "outputs": [],
   "source": [
    "data = pd.read_csv('./.data/train.csv', index_col='row_id')\n",
    "data = data.dropna(subset=['target'])"
   ]
  },
  {
   "cell_type": "code",
   "execution_count": 7,
   "id": "5e083c03",
   "metadata": {},
   "outputs": [],
   "source": [
    "y = data.target\n",
    "X = data.drop('target', axis=1)\n",
    "del data # memory is at a premium here"
   ]
  },
  {
   "cell_type": "code",
   "execution_count": 8,
   "id": "436c4ffe",
   "metadata": {},
   "outputs": [
    {
     "name": "stdout",
     "output_type": "stream",
     "text": [
      "Preprocessing...Complete\n"
     ]
    }
   ],
   "source": [
    "X = preprocess(X, imputes=['far_price', 'near_price'], skips=['time_id', 'row_id', 'imbalance_buy_sell_flag'], lags=6)"
   ]
  },
  {
   "cell_type": "code",
   "execution_count": 9,
   "id": "6c0a6b91",
   "metadata": {},
   "outputs": [],
   "source": [
    "class Model(typing.Protocol):\n",
    "    def fit(self, X, y, sample_weight=None): ...\n",
    "    def predict(self, X): ...\n",
    "\n",
    "def train_model(model:Model, X:pd.DataFrame, y:pd.Series, folds:int=5) -> Model:\n",
    "    for i, (i_train, i_valid) in enumerate(TimeSeriesSplit(n_splits=folds).split(X)):\n",
    "        print(f'CV Fold {i + 1} of {folds} - Running...', end='\\r')\n",
    "        try:\n",
    "            X_train, X_valid = X.iloc[i_train, :], X.iloc[i_valid, :]\n",
    "            y_train, y_valid = y[i_train], y[i_valid]\n",
    "            model.fit(X_train, y_train)\n",
    "            y_pred = model.predict(X_valid)\n",
    "            mae = mean_absolute_error(y_valid, y_pred)\n",
    "            del X_train, X_valid, y_train, y_valid, y_pred # yep...\n",
    "        except Exception as e:\n",
    "            print(f'CV Fold {i + 1} of {folds} - Failed: {e}')\n",
    "            print(f'Returning undertrained model ({i} folds)')\n",
    "            break\n",
    "        finally:\n",
    "            gc.collect() # it's a LOT of data\n",
    "        print(f'CV Fold {i + 1} of {folds} - Complete. MAE: {mae}')\n",
    "    return model"
   ]
  },
  {
   "cell_type": "code",
   "execution_count": 10,
   "id": "b8e929c3",
   "metadata": {},
   "outputs": [
    {
     "name": "stdout",
     "output_type": "stream",
     "text": [
      "CV Fold 1 of 4 - Complete. MAE: 5.914791973668544\n",
      "CV Fold 2 of 4 - Complete. MAE: 5.158742088106489\n",
      "CV Fold 3 of 4 - Complete. MAE: 4.769280972739363\n",
      "CV Fold 4 of 4 - Complete. MAE: 4.330236484052406\n"
     ]
    }
   ],
   "source": [
    "model = train_model(XGBRegressor(seed=25), X, y, folds=4)"
   ]
  },
  {
   "cell_type": "code",
   "execution_count": 17,
   "id": "6de60620",
   "metadata": {},
   "outputs": [],
   "source": [
    "import optiver2023\n",
    "env = optiver2023.make_env()\n",
    "iter_test = env.iter_test()"
   ]
  },
  {
   "cell_type": "code",
   "execution_count": 18,
   "id": "a1b43da3",
   "metadata": {},
   "outputs": [
    {
     "name": "stdout",
     "output_type": "stream",
     "text": [
      "    row_id  stock_id  date_id  seconds_in_bucket  imbalance_size  \\\n",
      "0  478_0_0       0.0    478.0                0.0      3753451.43   \n",
      "\n",
      "   imbalance_buy_sell_flag  reference_price  matched_size  far_price  \\\n",
      "0                     -1.0         0.999875   11548975.43        NaN   \n",
      "\n",
      "   near_price  bid_price  bid_size  ask_price  ask_size  wap  time_id  \n",
      "0         NaN   0.999875   22940.0    1.00005    9177.6  1.0  26290.0  \n",
      "    row_id  time_id  target\n",
      "0  478_0_0    26290       0\n",
      "Preprocessing...00.5%\r"
     ]
    },
    {
     "ename": "KeyError",
     "evalue": "1",
     "output_type": "error",
     "traceback": [
      "\u001b[0;31m---------------------------------------------------------------------------\u001b[0m",
      "\u001b[0;31mKeyError\u001b[0m                                  Traceback (most recent call last)",
      "File \u001b[0;32m~/miniconda3/envs/gpu/lib/python3.10/site-packages/cudf/core/dataframe.py:149\u001b[0m, in \u001b[0;36m_DataFrameIndexer.__getitem__\u001b[0;34m(self, arg)\u001b[0m\n\u001b[1;32m    148\u001b[0m \u001b[39mtry\u001b[39;00m:\n\u001b[0;32m--> 149\u001b[0m     \u001b[39mreturn\u001b[39;00m \u001b[39mself\u001b[39;49m\u001b[39m.\u001b[39;49m_getitem_tuple_arg(arg)\n\u001b[1;32m    150\u001b[0m \u001b[39mexcept\u001b[39;00m (\u001b[39mTypeError\u001b[39;00m, \u001b[39mKeyError\u001b[39;00m, \u001b[39mIndexError\u001b[39;00m, \u001b[39mValueError\u001b[39;00m):\n",
      "File \u001b[0;32m~/miniconda3/envs/gpu/lib/python3.10/site-packages/nvtx/nvtx.py:115\u001b[0m, in \u001b[0;36mannotate.__call__.<locals>.inner\u001b[0;34m(*args, **kwargs)\u001b[0m\n\u001b[1;32m    114\u001b[0m libnvtx_push_range(\u001b[39mself\u001b[39m\u001b[39m.\u001b[39mattributes, \u001b[39mself\u001b[39m\u001b[39m.\u001b[39mdomain\u001b[39m.\u001b[39mhandle)\n\u001b[0;32m--> 115\u001b[0m result \u001b[39m=\u001b[39m func(\u001b[39m*\u001b[39;49margs, \u001b[39m*\u001b[39;49m\u001b[39m*\u001b[39;49mkwargs)\n\u001b[1;32m    116\u001b[0m libnvtx_pop_range(\u001b[39mself\u001b[39m\u001b[39m.\u001b[39mdomain\u001b[39m.\u001b[39mhandle)\n",
      "File \u001b[0;32m~/miniconda3/envs/gpu/lib/python3.10/site-packages/cudf/core/dataframe.py:281\u001b[0m, in \u001b[0;36m_DataFrameLocIndexer._getitem_tuple_arg\u001b[0;34m(self, arg)\u001b[0m\n\u001b[1;32m    280\u001b[0m     row_arg \u001b[39m=\u001b[39m arg\n\u001b[0;32m--> 281\u001b[0m result \u001b[39m=\u001b[39m columns_df\u001b[39m.\u001b[39;49mindex\u001b[39m.\u001b[39;49m_get_row_major(columns_df, row_arg)\n\u001b[1;32m    282\u001b[0m \u001b[39mif\u001b[39;00m (\n\u001b[1;32m    283\u001b[0m     \u001b[39mlen\u001b[39m(result) \u001b[39m==\u001b[39m \u001b[39m1\u001b[39m\n\u001b[1;32m    284\u001b[0m     \u001b[39mand\u001b[39;00m \u001b[39misinstance\u001b[39m(arg, \u001b[39mtuple\u001b[39m)\n\u001b[1;32m    285\u001b[0m     \u001b[39mand\u001b[39;00m \u001b[39mlen\u001b[39m(arg) \u001b[39m>\u001b[39m \u001b[39m1\u001b[39m\n\u001b[1;32m    286\u001b[0m     \u001b[39mand\u001b[39;00m is_scalar(arg[\u001b[39m1\u001b[39m])\n\u001b[1;32m    287\u001b[0m ):\n",
      "File \u001b[0;32m~/miniconda3/envs/gpu/lib/python3.10/site-packages/nvtx/nvtx.py:115\u001b[0m, in \u001b[0;36mannotate.__call__.<locals>.inner\u001b[0;34m(*args, **kwargs)\u001b[0m\n\u001b[1;32m    114\u001b[0m libnvtx_push_range(\u001b[39mself\u001b[39m\u001b[39m.\u001b[39mattributes, \u001b[39mself\u001b[39m\u001b[39m.\u001b[39mdomain\u001b[39m.\u001b[39mhandle)\n\u001b[0;32m--> 115\u001b[0m result \u001b[39m=\u001b[39m func(\u001b[39m*\u001b[39;49margs, \u001b[39m*\u001b[39;49m\u001b[39m*\u001b[39;49mkwargs)\n\u001b[1;32m    116\u001b[0m libnvtx_pop_range(\u001b[39mself\u001b[39m\u001b[39m.\u001b[39mdomain\u001b[39m.\u001b[39mhandle)\n",
      "File \u001b[0;32m~/miniconda3/envs/gpu/lib/python3.10/site-packages/cudf/core/multiindex.py:944\u001b[0m, in \u001b[0;36mMultiIndex._get_row_major\u001b[0;34m(self, df, row_tuple)\u001b[0m\n\u001b[1;32m    943\u001b[0m \u001b[39mself\u001b[39m\u001b[39m.\u001b[39m_validate_indexer(row_tuple)\n\u001b[0;32m--> 944\u001b[0m valid_indices \u001b[39m=\u001b[39m \u001b[39mself\u001b[39;49m\u001b[39m.\u001b[39;49m_get_valid_indices_by_tuple(\n\u001b[1;32m    945\u001b[0m     df\u001b[39m.\u001b[39;49mindex, row_tuple, \u001b[39mlen\u001b[39;49m(df\u001b[39m.\u001b[39;49mindex)\n\u001b[1;32m    946\u001b[0m )\n\u001b[1;32m    947\u001b[0m indices \u001b[39m=\u001b[39m cudf\u001b[39m.\u001b[39mSeries(valid_indices)\n",
      "File \u001b[0;32m~/miniconda3/envs/gpu/lib/python3.10/site-packages/nvtx/nvtx.py:115\u001b[0m, in \u001b[0;36mannotate.__call__.<locals>.inner\u001b[0;34m(*args, **kwargs)\u001b[0m\n\u001b[1;32m    114\u001b[0m libnvtx_push_range(\u001b[39mself\u001b[39m\u001b[39m.\u001b[39mattributes, \u001b[39mself\u001b[39m\u001b[39m.\u001b[39mdomain\u001b[39m.\u001b[39mhandle)\n\u001b[0;32m--> 115\u001b[0m result \u001b[39m=\u001b[39m func(\u001b[39m*\u001b[39;49margs, \u001b[39m*\u001b[39;49m\u001b[39m*\u001b[39;49mkwargs)\n\u001b[1;32m    116\u001b[0m libnvtx_pop_range(\u001b[39mself\u001b[39m\u001b[39m.\u001b[39mdomain\u001b[39m.\u001b[39mhandle)\n",
      "File \u001b[0;32m~/miniconda3/envs/gpu/lib/python3.10/site-packages/cudf/core/multiindex.py:856\u001b[0m, in \u001b[0;36mMultiIndex._get_valid_indices_by_tuple\u001b[0;34m(self, index, row_tuple, max_length)\u001b[0m\n\u001b[1;32m    855\u001b[0m     \u001b[39mreturn\u001b[39;00m row_tuple\n\u001b[0;32m--> 856\u001b[0m \u001b[39mreturn\u001b[39;00m \u001b[39mself\u001b[39;49m\u001b[39m.\u001b[39;49m_compute_validity_mask(index, row_tuple, max_length)\n",
      "File \u001b[0;32m~/miniconda3/envs/gpu/lib/python3.10/site-packages/nvtx/nvtx.py:115\u001b[0m, in \u001b[0;36mannotate.__call__.<locals>.inner\u001b[0;34m(*args, **kwargs)\u001b[0m\n\u001b[1;32m    114\u001b[0m libnvtx_push_range(\u001b[39mself\u001b[39m\u001b[39m.\u001b[39mattributes, \u001b[39mself\u001b[39m\u001b[39m.\u001b[39mdomain\u001b[39m.\u001b[39mhandle)\n\u001b[0;32m--> 115\u001b[0m result \u001b[39m=\u001b[39m func(\u001b[39m*\u001b[39;49margs, \u001b[39m*\u001b[39;49m\u001b[39m*\u001b[39;49mkwargs)\n\u001b[1;32m    116\u001b[0m libnvtx_pop_range(\u001b[39mself\u001b[39m\u001b[39m.\u001b[39mdomain\u001b[39m.\u001b[39mhandle)\n",
      "File \u001b[0;32m~/miniconda3/envs/gpu/lib/python3.10/site-packages/cudf/core/multiindex.py:827\u001b[0m, in \u001b[0;36mMultiIndex._compute_validity_mask\u001b[0;34m(self, index, row_tuple, max_length)\u001b[0m\n\u001b[1;32m    826\u001b[0m         \u001b[39mif\u001b[39;00m row \u001b[39mnot\u001b[39;00m \u001b[39min\u001b[39;00m index\u001b[39m.\u001b[39mlevels[idx]\u001b[39m.\u001b[39m_column:\n\u001b[0;32m--> 827\u001b[0m             \u001b[39mraise\u001b[39;00m \u001b[39mKeyError\u001b[39;00m(row)\n\u001b[1;32m    828\u001b[0m \u001b[39mreturn\u001b[39;00m result\n",
      "\u001b[0;31mKeyError\u001b[0m: 1",
      "\nDuring handling of the above exception, another exception occurred:\n",
      "\u001b[0;31mIndexError\u001b[0m                                Traceback (most recent call last)",
      "File \u001b[0;32m~/miniconda3/envs/gpu/lib/python3.10/site-packages/cudf/pandas/fast_slow_proxy.py:837\u001b[0m, in \u001b[0;36m_fast_slow_function_call\u001b[0;34m(func, *args, **kwargs)\u001b[0m\n\u001b[1;32m    836\u001b[0m fast_args, fast_kwargs \u001b[39m=\u001b[39m _fast_arg(args), _fast_arg(kwargs)\n\u001b[0;32m--> 837\u001b[0m result \u001b[39m=\u001b[39m func(\u001b[39m*\u001b[39;49mfast_args, \u001b[39m*\u001b[39;49m\u001b[39m*\u001b[39;49mfast_kwargs)\n\u001b[1;32m    838\u001b[0m \u001b[39mif\u001b[39;00m result \u001b[39mis\u001b[39;00m \u001b[39mNotImplemented\u001b[39m:\n\u001b[1;32m    839\u001b[0m     \u001b[39m# try slow path\u001b[39;00m\n",
      "File \u001b[0;32m~/miniconda3/envs/gpu/lib/python3.10/site-packages/cudf/pandas/fast_slow_proxy.py:791\u001b[0m, in \u001b[0;36m_CallableProxyMixin.__call__.<locals>.<lambda>\u001b[0;34m(fn, args, kwargs)\u001b[0m\n\u001b[1;32m    784\u001b[0m \u001b[39mdef\u001b[39;00m \u001b[39m__call__\u001b[39m(\u001b[39mself\u001b[39m, \u001b[39m*\u001b[39margs, \u001b[39m*\u001b[39m\u001b[39m*\u001b[39mkwargs) \u001b[39m-\u001b[39m\u001b[39m>\u001b[39m Any:\n\u001b[1;32m    785\u001b[0m     result, _ \u001b[39m=\u001b[39m _fast_slow_function_call(\n\u001b[1;32m    786\u001b[0m         \u001b[39m# We cannot directly call self here because we need it to be\u001b[39;00m\n\u001b[1;32m    787\u001b[0m         \u001b[39m# converted into either the fast or slow object (by\u001b[39;00m\n\u001b[1;32m    788\u001b[0m         \u001b[39m# _fast_slow_function_call) to avoid infinite recursion.\u001b[39;00m\n\u001b[1;32m    789\u001b[0m         \u001b[39m# TODO: When Python 3.11 is the minimum supported Python version\u001b[39;00m\n\u001b[1;32m    790\u001b[0m         \u001b[39m# this can use operator.call\u001b[39;00m\n\u001b[0;32m--> 791\u001b[0m         \u001b[39mlambda\u001b[39;00m fn, args, kwargs: fn(\u001b[39m*\u001b[39;49margs, \u001b[39m*\u001b[39;49m\u001b[39m*\u001b[39;49mkwargs),\n\u001b[1;32m    792\u001b[0m         \u001b[39mself\u001b[39m,\n\u001b[1;32m    793\u001b[0m         args,\n\u001b[1;32m    794\u001b[0m         kwargs,\n\u001b[1;32m    795\u001b[0m     )\n\u001b[1;32m    796\u001b[0m     \u001b[39mreturn\u001b[39;00m result\n",
      "File \u001b[0;32m~/miniconda3/envs/gpu/lib/python3.10/site-packages/cudf/core/dataframe.py:151\u001b[0m, in \u001b[0;36m_DataFrameIndexer.__getitem__\u001b[0;34m(self, arg)\u001b[0m\n\u001b[1;32m    150\u001b[0m     \u001b[39mexcept\u001b[39;00m (\u001b[39mTypeError\u001b[39;00m, \u001b[39mKeyError\u001b[39;00m, \u001b[39mIndexError\u001b[39;00m, \u001b[39mValueError\u001b[39;00m):\n\u001b[0;32m--> 151\u001b[0m         \u001b[39mreturn\u001b[39;00m \u001b[39mself\u001b[39;49m\u001b[39m.\u001b[39;49m_getitem_tuple_arg((arg, \u001b[39mslice\u001b[39;49m(\u001b[39mNone\u001b[39;49;00m)))\n\u001b[1;32m    152\u001b[0m \u001b[39melse\u001b[39;00m:\n",
      "File \u001b[0;32m~/miniconda3/envs/gpu/lib/python3.10/site-packages/nvtx/nvtx.py:115\u001b[0m, in \u001b[0;36mannotate.__call__.<locals>.inner\u001b[0;34m(*args, **kwargs)\u001b[0m\n\u001b[1;32m    114\u001b[0m libnvtx_push_range(\u001b[39mself\u001b[39m\u001b[39m.\u001b[39mattributes, \u001b[39mself\u001b[39m\u001b[39m.\u001b[39mdomain\u001b[39m.\u001b[39mhandle)\n\u001b[0;32m--> 115\u001b[0m result \u001b[39m=\u001b[39m func(\u001b[39m*\u001b[39;49margs, \u001b[39m*\u001b[39;49m\u001b[39m*\u001b[39;49mkwargs)\n\u001b[1;32m    116\u001b[0m libnvtx_pop_range(\u001b[39mself\u001b[39m\u001b[39m.\u001b[39mdomain\u001b[39m.\u001b[39mhandle)\n",
      "File \u001b[0;32m~/miniconda3/envs/gpu/lib/python3.10/site-packages/cudf/core/dataframe.py:281\u001b[0m, in \u001b[0;36m_DataFrameLocIndexer._getitem_tuple_arg\u001b[0;34m(self, arg)\u001b[0m\n\u001b[1;32m    280\u001b[0m     row_arg \u001b[39m=\u001b[39m arg\n\u001b[0;32m--> 281\u001b[0m result \u001b[39m=\u001b[39m columns_df\u001b[39m.\u001b[39;49mindex\u001b[39m.\u001b[39;49m_get_row_major(columns_df, row_arg)\n\u001b[1;32m    282\u001b[0m \u001b[39mif\u001b[39;00m (\n\u001b[1;32m    283\u001b[0m     \u001b[39mlen\u001b[39m(result) \u001b[39m==\u001b[39m \u001b[39m1\u001b[39m\n\u001b[1;32m    284\u001b[0m     \u001b[39mand\u001b[39;00m \u001b[39misinstance\u001b[39m(arg, \u001b[39mtuple\u001b[39m)\n\u001b[1;32m    285\u001b[0m     \u001b[39mand\u001b[39;00m \u001b[39mlen\u001b[39m(arg) \u001b[39m>\u001b[39m \u001b[39m1\u001b[39m\n\u001b[1;32m    286\u001b[0m     \u001b[39mand\u001b[39;00m is_scalar(arg[\u001b[39m1\u001b[39m])\n\u001b[1;32m    287\u001b[0m ):\n",
      "File \u001b[0;32m~/miniconda3/envs/gpu/lib/python3.10/site-packages/nvtx/nvtx.py:115\u001b[0m, in \u001b[0;36mannotate.__call__.<locals>.inner\u001b[0;34m(*args, **kwargs)\u001b[0m\n\u001b[1;32m    114\u001b[0m libnvtx_push_range(\u001b[39mself\u001b[39m\u001b[39m.\u001b[39mattributes, \u001b[39mself\u001b[39m\u001b[39m.\u001b[39mdomain\u001b[39m.\u001b[39mhandle)\n\u001b[0;32m--> 115\u001b[0m result \u001b[39m=\u001b[39m func(\u001b[39m*\u001b[39;49margs, \u001b[39m*\u001b[39;49m\u001b[39m*\u001b[39;49mkwargs)\n\u001b[1;32m    116\u001b[0m libnvtx_pop_range(\u001b[39mself\u001b[39m\u001b[39m.\u001b[39mdomain\u001b[39m.\u001b[39mhandle)\n",
      "File \u001b[0;32m~/miniconda3/envs/gpu/lib/python3.10/site-packages/cudf/core/multiindex.py:948\u001b[0m, in \u001b[0;36mMultiIndex._get_row_major\u001b[0;34m(self, df, row_tuple)\u001b[0m\n\u001b[1;32m    947\u001b[0m indices \u001b[39m=\u001b[39m cudf\u001b[39m.\u001b[39mSeries(valid_indices)\n\u001b[0;32m--> 948\u001b[0m result \u001b[39m=\u001b[39m df\u001b[39m.\u001b[39;49mtake(indices)\n\u001b[1;32m    949\u001b[0m final \u001b[39m=\u001b[39m \u001b[39mself\u001b[39m\u001b[39m.\u001b[39m_index_and_downcast(result, result\u001b[39m.\u001b[39mindex, row_tuple)\n",
      "File \u001b[0;32m~/miniconda3/envs/gpu/lib/python3.10/site-packages/cudf/core/indexed_frame.py:3177\u001b[0m, in \u001b[0;36mIndexedFrame.take\u001b[0;34m(self, indices, axis)\u001b[0m\n\u001b[1;32m   3175\u001b[0m     \u001b[39mraise\u001b[39;00m \u001b[39mNotImplementedError\u001b[39;00m(\u001b[39m\"\u001b[39m\u001b[39mOnly axis=0 is supported.\u001b[39m\u001b[39m\"\u001b[39m)\n\u001b[0;32m-> 3177\u001b[0m \u001b[39mreturn\u001b[39;00m \u001b[39mself\u001b[39m\u001b[39m.\u001b[39m_gather(GatherMap(indices, \u001b[39mlen\u001b[39;49m(\u001b[39mself\u001b[39;49m), nullify\u001b[39m=\u001b[39;49m\u001b[39mFalse\u001b[39;49;00m))\n",
      "File \u001b[0;32m~/miniconda3/envs/gpu/lib/python3.10/site-packages/cudf/core/copy_types.py:73\u001b[0m, in \u001b[0;36mGatherMap.__init__\u001b[0;34m(self, column, nrows, nullify)\u001b[0m\n\u001b[1;32m     72\u001b[0m \u001b[39mif\u001b[39;00m lo\u001b[39m.\u001b[39mvalue \u001b[39m<\u001b[39m \u001b[39m-\u001b[39mnrows \u001b[39mor\u001b[39;00m hi\u001b[39m.\u001b[39mvalue \u001b[39m>\u001b[39m\u001b[39m=\u001b[39m nrows:\n\u001b[0;32m---> 73\u001b[0m     \u001b[39mraise\u001b[39;00m \u001b[39mIndexError\u001b[39;00m(\n\u001b[1;32m     74\u001b[0m         \u001b[39mf\u001b[39m\u001b[39m\"\u001b[39m\u001b[39mGather map is out of bounds for [0, \u001b[39m\u001b[39m{\u001b[39;00mnrows\u001b[39m}\u001b[39;00m\u001b[39m)\u001b[39m\u001b[39m\"\u001b[39m\n\u001b[1;32m     75\u001b[0m     )\n",
      "\u001b[0;31mIndexError\u001b[0m: Gather map is out of bounds for [0, 1)",
      "\nDuring handling of the above exception, another exception occurred:\n",
      "\u001b[0;31mKeyError\u001b[0m                                  Traceback (most recent call last)",
      "File \u001b[0;32m~/miniconda3/envs/gpu/lib/python3.10/site-packages/pandas/core/indexes/base.py:3802\u001b[0m, in \u001b[0;36mIndex.get_loc\u001b[0;34m(self, key, method, tolerance)\u001b[0m\n\u001b[1;32m   3801\u001b[0m \u001b[39mtry\u001b[39;00m:\n\u001b[0;32m-> 3802\u001b[0m     \u001b[39mreturn\u001b[39;00m \u001b[39mself\u001b[39;49m\u001b[39m.\u001b[39;49m_engine\u001b[39m.\u001b[39;49mget_loc(casted_key)\n\u001b[1;32m   3803\u001b[0m \u001b[39mexcept\u001b[39;00m \u001b[39mKeyError\u001b[39;00m \u001b[39mas\u001b[39;00m err:\n",
      "File \u001b[0;32m~/miniconda3/envs/gpu/lib/python3.10/site-packages/pandas/_libs/index.pyx:138\u001b[0m, in \u001b[0;36mpandas._libs.index.IndexEngine.get_loc\u001b[0;34m()\u001b[0m\n",
      "File \u001b[0;32m~/miniconda3/envs/gpu/lib/python3.10/site-packages/pandas/_libs/index.pyx:165\u001b[0m, in \u001b[0;36mpandas._libs.index.IndexEngine.get_loc\u001b[0;34m()\u001b[0m\n",
      "File \u001b[0;32mpandas/_libs/hashtable_class_helper.pxi:1577\u001b[0m, in \u001b[0;36mpandas._libs.hashtable.Float64HashTable.get_item\u001b[0;34m()\u001b[0m\n",
      "File \u001b[0;32mpandas/_libs/hashtable_class_helper.pxi:1587\u001b[0m, in \u001b[0;36mpandas._libs.hashtable.Float64HashTable.get_item\u001b[0;34m()\u001b[0m\n",
      "\u001b[0;31mKeyError\u001b[0m: 1.0",
      "\nThe above exception was the direct cause of the following exception:\n",
      "\u001b[0;31mKeyError\u001b[0m                                  Traceback (most recent call last)",
      "\u001b[1;32m/media/whitgroves/Data/Repos/kaggle/optiver-trading-at-the-close/v3.ipynb Cell 13\u001b[0m line \u001b[0;36m6\n\u001b[1;32m      <a href='vscode-notebook-cell:/media/whitgroves/Data/Repos/kaggle/optiver-trading-at-the-close/v3.ipynb#X15sZmlsZQ%3D%3D?line=3'>4</a>\u001b[0m     \u001b[39mprint\u001b[39m(test\u001b[39m.\u001b[39mhead(\u001b[39m3\u001b[39m))\n\u001b[1;32m      <a href='vscode-notebook-cell:/media/whitgroves/Data/Repos/kaggle/optiver-trading-at-the-close/v3.ipynb#X15sZmlsZQ%3D%3D?line=4'>5</a>\u001b[0m     \u001b[39mprint\u001b[39m(sample_submission\u001b[39m.\u001b[39mhead(\u001b[39m3\u001b[39m))\n\u001b[0;32m----> <a href='vscode-notebook-cell:/media/whitgroves/Data/Repos/kaggle/optiver-trading-at-the-close/v3.ipynb#X15sZmlsZQ%3D%3D?line=5'>6</a>\u001b[0m X \u001b[39m=\u001b[39m preprocess(test, skips\u001b[39m=\u001b[39;49m[\u001b[39m'\u001b[39;49m\u001b[39mfar_price\u001b[39;49m\u001b[39m'\u001b[39;49m, \u001b[39m'\u001b[39;49m\u001b[39mnear_price\u001b[39;49m\u001b[39m'\u001b[39;49m, \u001b[39m'\u001b[39;49m\u001b[39mtime_id\u001b[39;49m\u001b[39m'\u001b[39;49m, \u001b[39m'\u001b[39;49m\u001b[39mrow_id\u001b[39;49m\u001b[39m'\u001b[39;49m, \u001b[39m'\u001b[39;49m\u001b[39mimbalance_buy_sell_flag\u001b[39;49m\u001b[39m'\u001b[39;49m], lags\u001b[39m=\u001b[39;49m\u001b[39m6\u001b[39;49m)\n\u001b[1;32m      <a href='vscode-notebook-cell:/media/whitgroves/Data/Repos/kaggle/optiver-trading-at-the-close/v3.ipynb#X15sZmlsZQ%3D%3D?line=6'>7</a>\u001b[0m sample_submission[\u001b[39m'\u001b[39m\u001b[39mtarget\u001b[39m\u001b[39m'\u001b[39m] \u001b[39m=\u001b[39m model\u001b[39m.\u001b[39mpredict(X)\n\u001b[1;32m      <a href='vscode-notebook-cell:/media/whitgroves/Data/Repos/kaggle/optiver-trading-at-the-close/v3.ipynb#X15sZmlsZQ%3D%3D?line=7'>8</a>\u001b[0m env\u001b[39m.\u001b[39mpredict(sample_submission)\n",
      "\u001b[1;32m/media/whitgroves/Data/Repos/kaggle/optiver-trading-at-the-close/v3.ipynb Cell 13\u001b[0m line \u001b[0;36m6\n\u001b[1;32m      <a href='vscode-notebook-cell:/media/whitgroves/Data/Repos/kaggle/optiver-trading-at-the-close/v3.ipynb#X15sZmlsZQ%3D%3D?line=3'>4</a>\u001b[0m \u001b[39mfor\u001b[39;00m stock_id \u001b[39min\u001b[39;00m \u001b[39mrange\u001b[39m(\u001b[39m200\u001b[39m):\n\u001b[1;32m      <a href='vscode-notebook-cell:/media/whitgroves/Data/Repos/kaggle/optiver-trading-at-the-close/v3.ipynb#X15sZmlsZQ%3D%3D?line=4'>5</a>\u001b[0m     \u001b[39mprint\u001b[39m(\u001b[39mf\u001b[39m\u001b[39m'\u001b[39m\u001b[39mPreprocessing...\u001b[39m\u001b[39m{\u001b[39;00mstock_id\u001b[39m/\u001b[39m\u001b[39m2\u001b[39m\u001b[39m:\u001b[39;00m\u001b[39m04.1f\u001b[39m\u001b[39m}\u001b[39;00m\u001b[39m%\u001b[39m\u001b[39m'\u001b[39m, end\u001b[39m=\u001b[39m\u001b[39m'\u001b[39m\u001b[39m\\r\u001b[39;00m\u001b[39m'\u001b[39m)\n\u001b[0;32m----> <a href='vscode-notebook-cell:/media/whitgroves/Data/Repos/kaggle/optiver-trading-at-the-close/v3.ipynb#X15sZmlsZQ%3D%3D?line=5'>6</a>\u001b[0m     stock \u001b[39m=\u001b[39m pd\u001b[39m.\u001b[39mDataFrame(data\u001b[39m.\u001b[39;49mloc[stock_id])\n\u001b[1;32m      <a href='vscode-notebook-cell:/media/whitgroves/Data/Repos/kaggle/optiver-trading-at-the-close/v3.ipynb#X15sZmlsZQ%3D%3D?line=6'>7</a>\u001b[0m     stock \u001b[39m=\u001b[39m preprocess_unit(stock, \u001b[39m*\u001b[39m\u001b[39m*\u001b[39mkwargs)\n\u001b[1;32m      <a href='vscode-notebook-cell:/media/whitgroves/Data/Repos/kaggle/optiver-trading-at-the-close/v3.ipynb#X15sZmlsZQ%3D%3D?line=7'>8</a>\u001b[0m     stock[\u001b[39m'\u001b[39m\u001b[39mstock_id\u001b[39m\u001b[39m'\u001b[39m] \u001b[39m=\u001b[39m stock_id\n",
      "File \u001b[0;32m~/miniconda3/envs/gpu/lib/python3.10/site-packages/cudf/pandas/fast_slow_proxy.py:785\u001b[0m, in \u001b[0;36m_CallableProxyMixin.__call__\u001b[0;34m(self, *args, **kwargs)\u001b[0m\n\u001b[1;32m    784\u001b[0m \u001b[39mdef\u001b[39;00m \u001b[39m__call__\u001b[39m(\u001b[39mself\u001b[39m, \u001b[39m*\u001b[39margs, \u001b[39m*\u001b[39m\u001b[39m*\u001b[39mkwargs) \u001b[39m-\u001b[39m\u001b[39m>\u001b[39m Any:\n\u001b[0;32m--> 785\u001b[0m     result, _ \u001b[39m=\u001b[39m _fast_slow_function_call(\n\u001b[1;32m    786\u001b[0m         \u001b[39m# We cannot directly call self here because we need it to be\u001b[39;49;00m\n\u001b[1;32m    787\u001b[0m         \u001b[39m# converted into either the fast or slow object (by\u001b[39;49;00m\n\u001b[1;32m    788\u001b[0m         \u001b[39m# _fast_slow_function_call) to avoid infinite recursion.\u001b[39;49;00m\n\u001b[1;32m    789\u001b[0m         \u001b[39m# TODO: When Python 3.11 is the minimum supported Python version\u001b[39;49;00m\n\u001b[1;32m    790\u001b[0m         \u001b[39m# this can use operator.call\u001b[39;49;00m\n\u001b[1;32m    791\u001b[0m         \u001b[39mlambda\u001b[39;49;00m fn, args, kwargs: fn(\u001b[39m*\u001b[39;49margs, \u001b[39m*\u001b[39;49m\u001b[39m*\u001b[39;49mkwargs),\n\u001b[1;32m    792\u001b[0m         \u001b[39mself\u001b[39;49m,\n\u001b[1;32m    793\u001b[0m         args,\n\u001b[1;32m    794\u001b[0m         kwargs,\n\u001b[1;32m    795\u001b[0m     )\n\u001b[1;32m    796\u001b[0m     \u001b[39mreturn\u001b[39;00m result\n",
      "File \u001b[0;32m~/miniconda3/envs/gpu/lib/python3.10/site-packages/cudf/pandas/fast_slow_proxy.py:850\u001b[0m, in \u001b[0;36m_fast_slow_function_call\u001b[0;34m(func, *args, **kwargs)\u001b[0m\n\u001b[1;32m    848\u001b[0m         slow_args, slow_kwargs \u001b[39m=\u001b[39m _slow_arg(args), _slow_arg(kwargs)\n\u001b[1;32m    849\u001b[0m         \u001b[39mwith\u001b[39;00m disable_module_accelerator():\n\u001b[0;32m--> 850\u001b[0m             result \u001b[39m=\u001b[39m func(\u001b[39m*\u001b[39;49mslow_args, \u001b[39m*\u001b[39;49m\u001b[39m*\u001b[39;49mslow_kwargs)\n\u001b[1;32m    851\u001b[0m \u001b[39mreturn\u001b[39;00m _maybe_wrap_result(result, func, \u001b[39m*\u001b[39margs, \u001b[39m*\u001b[39m\u001b[39m*\u001b[39mkwargs), fast\n",
      "File \u001b[0;32m~/miniconda3/envs/gpu/lib/python3.10/site-packages/cudf/pandas/fast_slow_proxy.py:791\u001b[0m, in \u001b[0;36m_CallableProxyMixin.__call__.<locals>.<lambda>\u001b[0;34m(fn, args, kwargs)\u001b[0m\n\u001b[1;32m    784\u001b[0m \u001b[39mdef\u001b[39;00m \u001b[39m__call__\u001b[39m(\u001b[39mself\u001b[39m, \u001b[39m*\u001b[39margs, \u001b[39m*\u001b[39m\u001b[39m*\u001b[39mkwargs) \u001b[39m-\u001b[39m\u001b[39m>\u001b[39m Any:\n\u001b[1;32m    785\u001b[0m     result, _ \u001b[39m=\u001b[39m _fast_slow_function_call(\n\u001b[1;32m    786\u001b[0m         \u001b[39m# We cannot directly call self here because we need it to be\u001b[39;00m\n\u001b[1;32m    787\u001b[0m         \u001b[39m# converted into either the fast or slow object (by\u001b[39;00m\n\u001b[1;32m    788\u001b[0m         \u001b[39m# _fast_slow_function_call) to avoid infinite recursion.\u001b[39;00m\n\u001b[1;32m    789\u001b[0m         \u001b[39m# TODO: When Python 3.11 is the minimum supported Python version\u001b[39;00m\n\u001b[1;32m    790\u001b[0m         \u001b[39m# this can use operator.call\u001b[39;00m\n\u001b[0;32m--> 791\u001b[0m         \u001b[39mlambda\u001b[39;00m fn, args, kwargs: fn(\u001b[39m*\u001b[39;49margs, \u001b[39m*\u001b[39;49m\u001b[39m*\u001b[39;49mkwargs),\n\u001b[1;32m    792\u001b[0m         \u001b[39mself\u001b[39m,\n\u001b[1;32m    793\u001b[0m         args,\n\u001b[1;32m    794\u001b[0m         kwargs,\n\u001b[1;32m    795\u001b[0m     )\n\u001b[1;32m    796\u001b[0m     \u001b[39mreturn\u001b[39;00m result\n",
      "File \u001b[0;32m~/miniconda3/envs/gpu/lib/python3.10/site-packages/pandas/core/indexing.py:1073\u001b[0m, in \u001b[0;36m_LocationIndexer.__getitem__\u001b[0;34m(self, key)\u001b[0m\n\u001b[1;32m   1070\u001b[0m axis \u001b[39m=\u001b[39m \u001b[39mself\u001b[39m\u001b[39m.\u001b[39maxis \u001b[39mor\u001b[39;00m \u001b[39m0\u001b[39m\n\u001b[1;32m   1072\u001b[0m maybe_callable \u001b[39m=\u001b[39m com\u001b[39m.\u001b[39mapply_if_callable(key, \u001b[39mself\u001b[39m\u001b[39m.\u001b[39mobj)\n\u001b[0;32m-> 1073\u001b[0m \u001b[39mreturn\u001b[39;00m \u001b[39mself\u001b[39;49m\u001b[39m.\u001b[39;49m_getitem_axis(maybe_callable, axis\u001b[39m=\u001b[39;49maxis)\n",
      "File \u001b[0;32m~/miniconda3/envs/gpu/lib/python3.10/site-packages/pandas/core/indexing.py:1312\u001b[0m, in \u001b[0;36m_LocIndexer._getitem_axis\u001b[0;34m(self, key, axis)\u001b[0m\n\u001b[1;32m   1310\u001b[0m \u001b[39m# fall thru to straight lookup\u001b[39;00m\n\u001b[1;32m   1311\u001b[0m \u001b[39mself\u001b[39m\u001b[39m.\u001b[39m_validate_key(key, axis)\n\u001b[0;32m-> 1312\u001b[0m \u001b[39mreturn\u001b[39;00m \u001b[39mself\u001b[39;49m\u001b[39m.\u001b[39;49m_get_label(key, axis\u001b[39m=\u001b[39;49maxis)\n",
      "File \u001b[0;32m~/miniconda3/envs/gpu/lib/python3.10/site-packages/pandas/core/indexing.py:1260\u001b[0m, in \u001b[0;36m_LocIndexer._get_label\u001b[0;34m(self, label, axis)\u001b[0m\n\u001b[1;32m   1258\u001b[0m \u001b[39mdef\u001b[39;00m \u001b[39m_get_label\u001b[39m(\u001b[39mself\u001b[39m, label, axis: \u001b[39mint\u001b[39m):\n\u001b[1;32m   1259\u001b[0m     \u001b[39m# GH#5567 this will fail if the label is not present in the axis.\u001b[39;00m\n\u001b[0;32m-> 1260\u001b[0m     \u001b[39mreturn\u001b[39;00m \u001b[39mself\u001b[39;49m\u001b[39m.\u001b[39;49mobj\u001b[39m.\u001b[39;49mxs(label, axis\u001b[39m=\u001b[39;49maxis)\n",
      "File \u001b[0;32m~/miniconda3/envs/gpu/lib/python3.10/site-packages/pandas/core/generic.py:4049\u001b[0m, in \u001b[0;36mNDFrame.xs\u001b[0;34m(self, key, axis, level, drop_level)\u001b[0m\n\u001b[1;32m   4046\u001b[0m \u001b[39mself\u001b[39m\u001b[39m.\u001b[39m_consolidate_inplace()\n\u001b[1;32m   4048\u001b[0m \u001b[39mif\u001b[39;00m \u001b[39misinstance\u001b[39m(index, MultiIndex):\n\u001b[0;32m-> 4049\u001b[0m     loc, new_index \u001b[39m=\u001b[39m index\u001b[39m.\u001b[39;49m_get_loc_level(key, level\u001b[39m=\u001b[39;49m\u001b[39m0\u001b[39;49m)\n\u001b[1;32m   4050\u001b[0m     \u001b[39mif\u001b[39;00m \u001b[39mnot\u001b[39;00m drop_level:\n\u001b[1;32m   4051\u001b[0m         \u001b[39mif\u001b[39;00m lib\u001b[39m.\u001b[39mis_integer(loc):\n",
      "File \u001b[0;32m~/miniconda3/envs/gpu/lib/python3.10/site-packages/pandas/core/indexes/multi.py:3160\u001b[0m, in \u001b[0;36mMultiIndex._get_loc_level\u001b[0;34m(self, key, level)\u001b[0m\n\u001b[1;32m   3158\u001b[0m         \u001b[39mreturn\u001b[39;00m indexer, maybe_mi_droplevels(indexer, ilevels)\n\u001b[1;32m   3159\u001b[0m \u001b[39melse\u001b[39;00m:\n\u001b[0;32m-> 3160\u001b[0m     indexer \u001b[39m=\u001b[39m \u001b[39mself\u001b[39;49m\u001b[39m.\u001b[39;49m_get_level_indexer(key, level\u001b[39m=\u001b[39;49mlevel)\n\u001b[1;32m   3161\u001b[0m     \u001b[39mif\u001b[39;00m (\n\u001b[1;32m   3162\u001b[0m         \u001b[39misinstance\u001b[39m(key, \u001b[39mstr\u001b[39m)\n\u001b[1;32m   3163\u001b[0m         \u001b[39mand\u001b[39;00m \u001b[39mself\u001b[39m\u001b[39m.\u001b[39mlevels[level]\u001b[39m.\u001b[39m_supports_partial_string_indexing\n\u001b[1;32m   3164\u001b[0m     ):\n\u001b[1;32m   3165\u001b[0m         \u001b[39m# check to see if we did an exact lookup vs sliced\u001b[39;00m\n\u001b[1;32m   3166\u001b[0m         check \u001b[39m=\u001b[39m \u001b[39mself\u001b[39m\u001b[39m.\u001b[39mlevels[level]\u001b[39m.\u001b[39mget_loc(key)\n",
      "File \u001b[0;32m~/miniconda3/envs/gpu/lib/python3.10/site-packages/pandas/core/indexes/multi.py:3263\u001b[0m, in \u001b[0;36mMultiIndex._get_level_indexer\u001b[0;34m(self, key, level, indexer)\u001b[0m\n\u001b[1;32m   3259\u001b[0m         \u001b[39mreturn\u001b[39;00m \u001b[39mslice\u001b[39m(i, j, step)\n\u001b[1;32m   3261\u001b[0m \u001b[39melse\u001b[39;00m:\n\u001b[0;32m-> 3263\u001b[0m     idx \u001b[39m=\u001b[39m \u001b[39mself\u001b[39;49m\u001b[39m.\u001b[39;49m_get_loc_single_level_index(level_index, key)\n\u001b[1;32m   3265\u001b[0m     \u001b[39mif\u001b[39;00m level \u001b[39m>\u001b[39m \u001b[39m0\u001b[39m \u001b[39mor\u001b[39;00m \u001b[39mself\u001b[39m\u001b[39m.\u001b[39m_lexsort_depth \u001b[39m==\u001b[39m \u001b[39m0\u001b[39m:\n\u001b[1;32m   3266\u001b[0m         \u001b[39m# Desired level is not sorted\u001b[39;00m\n\u001b[1;32m   3267\u001b[0m         \u001b[39mif\u001b[39;00m \u001b[39misinstance\u001b[39m(idx, \u001b[39mslice\u001b[39m):\n\u001b[1;32m   3268\u001b[0m             \u001b[39m# test_get_loc_partial_timestamp_multiindex\u001b[39;00m\n",
      "File \u001b[0;32m~/miniconda3/envs/gpu/lib/python3.10/site-packages/pandas/core/indexes/multi.py:2849\u001b[0m, in \u001b[0;36mMultiIndex._get_loc_single_level_index\u001b[0;34m(self, level_index, key)\u001b[0m\n\u001b[1;32m   2847\u001b[0m     \u001b[39mreturn\u001b[39;00m \u001b[39m-\u001b[39m\u001b[39m1\u001b[39m\n\u001b[1;32m   2848\u001b[0m \u001b[39melse\u001b[39;00m:\n\u001b[0;32m-> 2849\u001b[0m     \u001b[39mreturn\u001b[39;00m level_index\u001b[39m.\u001b[39;49mget_loc(key)\n",
      "File \u001b[0;32m~/miniconda3/envs/gpu/lib/python3.10/site-packages/pandas/core/indexes/base.py:3804\u001b[0m, in \u001b[0;36mIndex.get_loc\u001b[0;34m(self, key, method, tolerance)\u001b[0m\n\u001b[1;32m   3802\u001b[0m     \u001b[39mreturn\u001b[39;00m \u001b[39mself\u001b[39m\u001b[39m.\u001b[39m_engine\u001b[39m.\u001b[39mget_loc(casted_key)\n\u001b[1;32m   3803\u001b[0m \u001b[39mexcept\u001b[39;00m \u001b[39mKeyError\u001b[39;00m \u001b[39mas\u001b[39;00m err:\n\u001b[0;32m-> 3804\u001b[0m     \u001b[39mraise\u001b[39;00m \u001b[39mKeyError\u001b[39;00m(key) \u001b[39mfrom\u001b[39;00m \u001b[39merr\u001b[39;00m\n\u001b[1;32m   3805\u001b[0m \u001b[39mexcept\u001b[39;00m \u001b[39mTypeError\u001b[39;00m:\n\u001b[1;32m   3806\u001b[0m     \u001b[39m# If we have a listlike key, _check_indexing_error will raise\u001b[39;00m\n\u001b[1;32m   3807\u001b[0m     \u001b[39m#  InvalidIndexError. Otherwise we fall through and re-raise\u001b[39;00m\n\u001b[1;32m   3808\u001b[0m     \u001b[39m#  the TypeError.\u001b[39;00m\n\u001b[1;32m   3809\u001b[0m     \u001b[39mself\u001b[39m\u001b[39m.\u001b[39m_check_indexing_error(key)\n",
      "\u001b[0;31mKeyError\u001b[0m: 1"
     ]
    }
   ],
   "source": [
    "counter = 0\n",
    "for (test, sample_submission) in iter_test:\n",
    "    if counter == 0:\n",
    "        print(test.head(3))\n",
    "        print(sample_submission.head(3))\n",
    "    X = preprocess(test, skips=['far_price', 'near_price', 'time_id', 'row_id', 'imbalance_buy_sell_flag'], lags=6)\n",
    "    sample_submission['target'] = model.predict(X)\n",
    "    env.predict(sample_submission)\n",
    "    counter += 1"
   ]
  },
  {
   "cell_type": "markdown",
   "metadata": {},
   "source": [
    "Amazing progress but ultimately failed because I can't get submissions to work. I need to re-design my process around it for v4."
   ]
  }
 ],
 "metadata": {
  "kernelspec": {
   "display_name": "Python 3 (ipykernel)",
   "language": "python",
   "name": "python3"
  },
  "language_info": {
   "codemirror_mode": {
    "name": "ipython",
    "version": 3
   },
   "file_extension": ".py",
   "mimetype": "text/x-python",
   "name": "python",
   "nbconvert_exporter": "python",
   "pygments_lexer": "ipython3",
   "version": "3.10.13"
  }
 },
 "nbformat": 4,
 "nbformat_minor": 5
}
